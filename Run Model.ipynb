{
 "cells": [
  {
   "cell_type": "code",
   "execution_count": 224,
   "metadata": {},
   "outputs": [],
   "source": [
    "import pandas as pd\n",
    "import numpy as np\n",
    "import matplotlib.pyplot as plt\n",
    "import seaborn as sns\n",
    "import datetime\n",
    "\n",
    "%matplotlib inline"
   ]
  },
  {
   "cell_type": "code",
   "execution_count": 225,
   "metadata": {},
   "outputs": [],
   "source": [
    "from sklearn.model_selection import train_test_split\n",
    "from sklearn.metrics import classification_report,confusion_matrix\n",
    "from sklearn.metrics import precision_score, \\\n",
    "    recall_score, confusion_matrix, classification_report, \\\n",
    "    accuracy_score, f1_score"
   ]
  },
  {
   "cell_type": "code",
   "execution_count": 261,
   "metadata": {},
   "outputs": [],
   "source": [
    "df = pd.read_csv('preptraindata.csv')"
   ]
  },
  {
   "cell_type": "code",
   "execution_count": 262,
   "metadata": {},
   "outputs": [
    {
     "data": {
      "text/html": [
       "<div>\n",
       "<style scoped>\n",
       "    .dataframe tbody tr th:only-of-type {\n",
       "        vertical-align: middle;\n",
       "    }\n",
       "\n",
       "    .dataframe tbody tr th {\n",
       "        vertical-align: top;\n",
       "    }\n",
       "\n",
       "    .dataframe thead th {\n",
       "        text-align: right;\n",
       "    }\n",
       "</style>\n",
       "<table border=\"1\" class=\"dataframe\">\n",
       "  <thead>\n",
       "    <tr style=\"text-align: right;\">\n",
       "      <th></th>\n",
       "      <th>PassengerId</th>\n",
       "      <th>Survived</th>\n",
       "      <th>Age</th>\n",
       "      <th>SibSp</th>\n",
       "      <th>Parch</th>\n",
       "      <th>Fare</th>\n",
       "      <th>OrderPclass</th>\n",
       "      <th>FamilySize</th>\n",
       "      <th>Sex_female</th>\n",
       "      <th>Sex_male</th>\n",
       "      <th>...</th>\n",
       "      <th>Title_Rev.</th>\n",
       "      <th>CabinZone_A</th>\n",
       "      <th>CabinZone_B</th>\n",
       "      <th>CabinZone_C</th>\n",
       "      <th>CabinZone_D</th>\n",
       "      <th>CabinZone_E</th>\n",
       "      <th>CabinZone_F</th>\n",
       "      <th>CabinZone_G</th>\n",
       "      <th>CabinZone_None</th>\n",
       "      <th>CabinZone_T</th>\n",
       "    </tr>\n",
       "  </thead>\n",
       "  <tbody>\n",
       "    <tr>\n",
       "      <th>0</th>\n",
       "      <td>1</td>\n",
       "      <td>0</td>\n",
       "      <td>22.0</td>\n",
       "      <td>1</td>\n",
       "      <td>0</td>\n",
       "      <td>7.2500</td>\n",
       "      <td>1.0</td>\n",
       "      <td>1</td>\n",
       "      <td>0</td>\n",
       "      <td>1</td>\n",
       "      <td>...</td>\n",
       "      <td>0</td>\n",
       "      <td>0</td>\n",
       "      <td>0</td>\n",
       "      <td>0</td>\n",
       "      <td>0</td>\n",
       "      <td>0</td>\n",
       "      <td>0</td>\n",
       "      <td>0</td>\n",
       "      <td>1</td>\n",
       "      <td>0</td>\n",
       "    </tr>\n",
       "    <tr>\n",
       "      <th>1</th>\n",
       "      <td>2</td>\n",
       "      <td>1</td>\n",
       "      <td>38.0</td>\n",
       "      <td>1</td>\n",
       "      <td>0</td>\n",
       "      <td>71.2833</td>\n",
       "      <td>3.0</td>\n",
       "      <td>1</td>\n",
       "      <td>1</td>\n",
       "      <td>0</td>\n",
       "      <td>...</td>\n",
       "      <td>0</td>\n",
       "      <td>0</td>\n",
       "      <td>0</td>\n",
       "      <td>1</td>\n",
       "      <td>0</td>\n",
       "      <td>0</td>\n",
       "      <td>0</td>\n",
       "      <td>0</td>\n",
       "      <td>0</td>\n",
       "      <td>0</td>\n",
       "    </tr>\n",
       "    <tr>\n",
       "      <th>2</th>\n",
       "      <td>3</td>\n",
       "      <td>1</td>\n",
       "      <td>26.0</td>\n",
       "      <td>0</td>\n",
       "      <td>0</td>\n",
       "      <td>7.9250</td>\n",
       "      <td>1.0</td>\n",
       "      <td>0</td>\n",
       "      <td>1</td>\n",
       "      <td>0</td>\n",
       "      <td>...</td>\n",
       "      <td>0</td>\n",
       "      <td>0</td>\n",
       "      <td>0</td>\n",
       "      <td>0</td>\n",
       "      <td>0</td>\n",
       "      <td>0</td>\n",
       "      <td>0</td>\n",
       "      <td>0</td>\n",
       "      <td>1</td>\n",
       "      <td>0</td>\n",
       "    </tr>\n",
       "    <tr>\n",
       "      <th>3</th>\n",
       "      <td>4</td>\n",
       "      <td>1</td>\n",
       "      <td>35.0</td>\n",
       "      <td>1</td>\n",
       "      <td>0</td>\n",
       "      <td>53.1000</td>\n",
       "      <td>3.0</td>\n",
       "      <td>1</td>\n",
       "      <td>1</td>\n",
       "      <td>0</td>\n",
       "      <td>...</td>\n",
       "      <td>0</td>\n",
       "      <td>0</td>\n",
       "      <td>0</td>\n",
       "      <td>1</td>\n",
       "      <td>0</td>\n",
       "      <td>0</td>\n",
       "      <td>0</td>\n",
       "      <td>0</td>\n",
       "      <td>0</td>\n",
       "      <td>0</td>\n",
       "    </tr>\n",
       "    <tr>\n",
       "      <th>4</th>\n",
       "      <td>5</td>\n",
       "      <td>0</td>\n",
       "      <td>35.0</td>\n",
       "      <td>0</td>\n",
       "      <td>0</td>\n",
       "      <td>8.0500</td>\n",
       "      <td>1.0</td>\n",
       "      <td>0</td>\n",
       "      <td>0</td>\n",
       "      <td>1</td>\n",
       "      <td>...</td>\n",
       "      <td>0</td>\n",
       "      <td>0</td>\n",
       "      <td>0</td>\n",
       "      <td>0</td>\n",
       "      <td>0</td>\n",
       "      <td>0</td>\n",
       "      <td>0</td>\n",
       "      <td>0</td>\n",
       "      <td>1</td>\n",
       "      <td>0</td>\n",
       "    </tr>\n",
       "  </tbody>\n",
       "</table>\n",
       "<p>5 rows × 30 columns</p>\n",
       "</div>"
      ],
      "text/plain": [
       "   PassengerId  Survived   Age  SibSp  Parch     Fare  OrderPclass  \\\n",
       "0            1         0  22.0      1      0   7.2500          1.0   \n",
       "1            2         1  38.0      1      0  71.2833          3.0   \n",
       "2            3         1  26.0      0      0   7.9250          1.0   \n",
       "3            4         1  35.0      1      0  53.1000          3.0   \n",
       "4            5         0  35.0      0      0   8.0500          1.0   \n",
       "\n",
       "   FamilySize  Sex_female  Sex_male     ...       Title_Rev.  CabinZone_A  \\\n",
       "0           1           0         1     ...                0            0   \n",
       "1           1           1         0     ...                0            0   \n",
       "2           0           1         0     ...                0            0   \n",
       "3           1           1         0     ...                0            0   \n",
       "4           0           0         1     ...                0            0   \n",
       "\n",
       "   CabinZone_B  CabinZone_C  CabinZone_D  CabinZone_E  CabinZone_F  \\\n",
       "0            0            0            0            0            0   \n",
       "1            0            1            0            0            0   \n",
       "2            0            0            0            0            0   \n",
       "3            0            1            0            0            0   \n",
       "4            0            0            0            0            0   \n",
       "\n",
       "   CabinZone_G  CabinZone_None  CabinZone_T  \n",
       "0            0               1            0  \n",
       "1            0               0            0  \n",
       "2            0               1            0  \n",
       "3            0               0            0  \n",
       "4            0               1            0  \n",
       "\n",
       "[5 rows x 30 columns]"
      ]
     },
     "execution_count": 262,
     "metadata": {},
     "output_type": "execute_result"
    }
   ],
   "source": [
    "df.head()"
   ]
  },
  {
   "cell_type": "code",
   "execution_count": 263,
   "metadata": {},
   "outputs": [],
   "source": [
    "# For Train Data only\n",
    "X = df.drop(['Survived'],axis=1)\n",
    "X = X.drop(['PassengerId'],axis=1)\n",
    "Y = df['Survived']"
   ]
  },
  {
   "cell_type": "code",
   "execution_count": 264,
   "metadata": {},
   "outputs": [],
   "source": [
    "X_Train, X_Test, Y_Train, Y_Test = train_test_split(X, Y, test_size=0.33)"
   ]
  },
  {
   "cell_type": "code",
   "execution_count": 256,
   "metadata": {},
   "outputs": [],
   "source": [
    "# #For test\n",
    "# X_Test = df.drop(['PassengerId'],axis=1)"
   ]
  },
  {
   "cell_type": "markdown",
   "metadata": {},
   "source": [
    "## XGBoost"
   ]
  },
  {
   "cell_type": "code",
   "execution_count": 2,
   "metadata": {},
   "outputs": [
    {
     "name": "stdout",
     "output_type": "stream",
     "text": [
      "Requirement already satisfied: xgboost in c:\\users\\teing\\anaconda3\\lib\\site-packages (0.80)\n",
      "Requirement already satisfied: numpy in c:\\users\\teing\\anaconda3\\lib\\site-packages (from xgboost) (1.15.1)\n",
      "Requirement already satisfied: scipy in c:\\users\\teing\\anaconda3\\lib\\site-packages (from xgboost) (1.1.0)\n"
     ]
    },
    {
     "name": "stderr",
     "output_type": "stream",
     "text": [
      "twisted 18.7.0 requires PyHamcrest>=1.9.0, which is not installed.\n",
      "You are using pip version 10.0.1, however version 18.1 is available.\n",
      "You should consider upgrading via the 'python -m pip install --upgrade pip' command.\n"
     ]
    }
   ],
   "source": [
    "!pip install xgboost"
   ]
  },
  {
   "cell_type": "code",
   "execution_count": 232,
   "metadata": {},
   "outputs": [],
   "source": [
    "import xgboost as xgb"
   ]
  },
  {
   "cell_type": "code",
   "execution_count": 233,
   "metadata": {},
   "outputs": [],
   "source": [
    "from xgboost.sklearn import XGBClassifier"
   ]
  },
  {
   "cell_type": "code",
   "execution_count": 296,
   "metadata": {},
   "outputs": [],
   "source": [
    "#gbm = xgb.XGBClassifier(n_estimators=300, learning_rate=0.05, max_depth= 7, min_child_weight= 3, gamma= 0.4,reg_alpha=0).fit(X_Train, Y_Train)"
   ]
  },
  {
   "cell_type": "code",
   "execution_count": 299,
   "metadata": {},
   "outputs": [],
   "source": [
    "gbm = xgb.XGBClassifier(n_estimators=300, learning_rate=0.01, max_depth= 7, min_child_weight= 3, gamma= 0.4,reg_alpha=0).fit(X_Train, Y_Train)"
   ]
  },
  {
   "cell_type": "code",
   "execution_count": 300,
   "metadata": {},
   "outputs": [
    {
     "name": "stderr",
     "output_type": "stream",
     "text": [
      "C:\\Users\\teing\\Anaconda3\\lib\\site-packages\\sklearn\\preprocessing\\label.py:151: DeprecationWarning: The truth value of an empty array is ambiguous. Returning False, but in future this will result in an error. Use `array.size > 0` to check that an array is not empty.\n",
      "  if diff:\n"
     ]
    }
   ],
   "source": [
    "predictions = gbm.predict(X_Test)"
   ]
  },
  {
   "cell_type": "code",
   "execution_count": 301,
   "metadata": {
    "scrolled": true
   },
   "outputs": [
    {
     "name": "stdout",
     "output_type": "stream",
     "text": [
      "             precision    recall  f1-score   support\n",
      "\n",
      "          0       0.82      0.96      0.89       177\n",
      "          1       0.92      0.69      0.79       118\n",
      "\n",
      "avg / total       0.86      0.85      0.85       295\n",
      "\n"
     ]
    }
   ],
   "source": [
    "print(classification_report(Y_Test,predictions))"
   ]
  },
  {
   "cell_type": "code",
   "execution_count": 302,
   "metadata": {},
   "outputs": [
    {
     "name": "stdout",
     "output_type": "stream",
     "text": [
      "Accuracy: 0.8508474576271187\n"
     ]
    }
   ],
   "source": [
    "print('Accuracy:', accuracy_score(Y_Test, predictions))"
   ]
  },
  {
   "cell_type": "markdown",
   "metadata": {},
   "source": [
    "## Parameters Tuning "
   ]
  },
  {
   "cell_type": "code",
   "execution_count": 178,
   "metadata": {},
   "outputs": [
    {
     "name": "stderr",
     "output_type": "stream",
     "text": [
      "C:\\Users\\teing\\Anaconda3\\lib\\site-packages\\sklearn\\cross_validation.py:41: DeprecationWarning: This module was deprecated in version 0.18 in favor of the model_selection module into which all the refactored classes and functions are moved. Also note that the interface of the new CV iterators are different from that of this module. This module will be removed in 0.20.\n",
      "  \"This module will be removed in 0.20.\", DeprecationWarning)\n",
      "C:\\Users\\teing\\Anaconda3\\lib\\site-packages\\sklearn\\grid_search.py:42: DeprecationWarning: This module was deprecated in version 0.18 in favor of the model_selection module into which all the refactored classes and functions are moved. This module will be removed in 0.20.\n",
      "  DeprecationWarning)\n"
     ]
    }
   ],
   "source": [
    "from sklearn.grid_search import GridSearchCV   #Perforing grid search"
   ]
  },
  {
   "cell_type": "markdown",
   "metadata": {},
   "source": [
    "### Step1 Param Tuning "
   ]
  },
  {
   "cell_type": "markdown",
   "metadata": {},
   "source": [
    "#### Fix learning rate and number of estimators for tuning tree-based parameters"
   ]
  },
  {
   "cell_type": "code",
   "execution_count": 190,
   "metadata": {},
   "outputs": [],
   "source": [
    "def modelfit(alg, dtrain, predictors,useTrainCV=True, cv_folds=5, early_stopping_rounds=50):\n",
    "    \n",
    "    if useTrainCV:\n",
    "        xgb_param = alg.get_xgb_params()\n",
    "        xgtrain = xgb.DMatrix(dtrain[predictors].values, label=dtrain[target].values)\n",
    "        cvresult = xgb.cv(xgb_param, xgtrain, num_boost_round=alg.get_params()['n_estimators'], nfold=cv_folds,\n",
    "            metrics='auc', early_stopping_rounds=early_stopping_rounds, show_progress=False)\n",
    "        alg.set_params(n_estimators=cvresult.shape[0])\n",
    "    \n",
    "    #Fit the algorithm on the data\n",
    "    alg.fit(dtrain[predictors], dtrain['Disbursed'],eval_metric='auc')\n",
    "        \n",
    "    #Predict training set:\n",
    "    dtrain_predictions = alg.predict(dtrain[predictors])\n",
    "    dtrain_predprob = alg.predict_proba(dtrain[predictors])[:,1]\n",
    "        \n",
    "    #Print model report:\n",
    "    print(\"\\nModel Report\")\n",
    "    print(\"Accuracy : %.4g\" % metrics.accuracy_score(dtrain['Disbursed'].values, dtrain_predictions))\n",
    "    print(\"AUC Score (Train): %f\" % metrics.roc_auc_score(dtrain['Disbursed'], dtrain_predprob))\n",
    "                    \n",
    "    feat_imp = pd.Series(alg.booster().get_fscore()).sort_values(ascending=False)\n",
    "    feat_imp.plot(kind='bar', title='Feature Importances')\n",
    "    plt.ylabel('Feature Importance Score')"
   ]
  },
  {
   "cell_type": "code",
   "execution_count": 192,
   "metadata": {},
   "outputs": [
    {
     "ename": "NameError",
     "evalue": "name 'target' is not defined",
     "output_type": "error",
     "traceback": [
      "\u001b[1;31m---------------------------------------------------------------------------\u001b[0m",
      "\u001b[1;31mNameError\u001b[0m                                 Traceback (most recent call last)",
      "\u001b[1;32m<ipython-input-192-04fb9fd09c78>\u001b[0m in \u001b[0;36m<module>\u001b[1;34m()\u001b[0m\n\u001b[0;32m     12\u001b[0m  \u001b[0mscale_pos_weight\u001b[0m\u001b[1;33m=\u001b[0m\u001b[1;36m1\u001b[0m\u001b[1;33m,\u001b[0m\u001b[1;33m\u001b[0m\u001b[0m\n\u001b[0;32m     13\u001b[0m  seed=27)\n\u001b[1;32m---> 14\u001b[1;33m \u001b[0mmodelfit\u001b[0m\u001b[1;33m(\u001b[0m\u001b[0mxgb1\u001b[0m\u001b[1;33m,\u001b[0m \u001b[0mX_Train\u001b[0m\u001b[1;33m,\u001b[0m \u001b[0mpredictors\u001b[0m\u001b[1;33m)\u001b[0m\u001b[1;33m\u001b[0m\u001b[0m\n\u001b[0m",
      "\u001b[1;32m<ipython-input-190-928507cd16f6>\u001b[0m in \u001b[0;36mmodelfit\u001b[1;34m(alg, dtrain, predictors, useTrainCV, cv_folds, early_stopping_rounds)\u001b[0m\n\u001b[0;32m      3\u001b[0m     \u001b[1;32mif\u001b[0m \u001b[0museTrainCV\u001b[0m\u001b[1;33m:\u001b[0m\u001b[1;33m\u001b[0m\u001b[0m\n\u001b[0;32m      4\u001b[0m         \u001b[0mxgb_param\u001b[0m \u001b[1;33m=\u001b[0m \u001b[0malg\u001b[0m\u001b[1;33m.\u001b[0m\u001b[0mget_xgb_params\u001b[0m\u001b[1;33m(\u001b[0m\u001b[1;33m)\u001b[0m\u001b[1;33m\u001b[0m\u001b[0m\n\u001b[1;32m----> 5\u001b[1;33m         \u001b[0mxgtrain\u001b[0m \u001b[1;33m=\u001b[0m \u001b[0mxgb\u001b[0m\u001b[1;33m.\u001b[0m\u001b[0mDMatrix\u001b[0m\u001b[1;33m(\u001b[0m\u001b[0mdtrain\u001b[0m\u001b[1;33m[\u001b[0m\u001b[0mpredictors\u001b[0m\u001b[1;33m]\u001b[0m\u001b[1;33m.\u001b[0m\u001b[0mvalues\u001b[0m\u001b[1;33m,\u001b[0m \u001b[0mlabel\u001b[0m\u001b[1;33m=\u001b[0m\u001b[0mdtrain\u001b[0m\u001b[1;33m[\u001b[0m\u001b[0mtarget\u001b[0m\u001b[1;33m]\u001b[0m\u001b[1;33m.\u001b[0m\u001b[0mvalues\u001b[0m\u001b[1;33m)\u001b[0m\u001b[1;33m\u001b[0m\u001b[0m\n\u001b[0m\u001b[0;32m      6\u001b[0m         cvresult = xgb.cv(xgb_param, xgtrain, num_boost_round=alg.get_params()['n_estimators'], nfold=cv_folds,\n\u001b[0;32m      7\u001b[0m             metrics='auc', early_stopping_rounds=early_stopping_rounds, show_progress=False)\n",
      "\u001b[1;31mNameError\u001b[0m: name 'target' is not defined"
     ]
    }
   ],
   "source": [
    "predictors = [x for x in X_Train.columns]\n",
    "xgb1 = XGBClassifier(\n",
    " learning_rate =0.1,\n",
    " n_estimators=1000,\n",
    " max_depth=5,\n",
    " min_child_weight=1,\n",
    " gamma=0,\n",
    " subsample=0.8,\n",
    " colsample_bytree=0.8,\n",
    " objective= 'binary:logistic',\n",
    " nthread=4,\n",
    " scale_pos_weight=1,\n",
    " seed=27)\n",
    "modelfit(xgb1, X_Train, predictors)"
   ]
  },
  {
   "cell_type": "markdown",
   "metadata": {},
   "source": [
    "### Step 2: Tune max_depth and min_child_weight "
   ]
  },
  {
   "cell_type": "code",
   "execution_count": 265,
   "metadata": {},
   "outputs": [],
   "source": [
    "predictors = [x for x in X_Train.columns]"
   ]
  },
  {
   "cell_type": "code",
   "execution_count": 266,
   "metadata": {},
   "outputs": [
    {
     "data": {
      "text/plain": [
       "([mean: 0.81022, std: 0.03644, params: {'max_depth': 3, 'min_child_weight': 1},\n",
       "  mean: 0.80351, std: 0.03362, params: {'max_depth': 3, 'min_child_weight': 3},\n",
       "  mean: 0.81022, std: 0.03528, params: {'max_depth': 3, 'min_child_weight': 5},\n",
       "  mean: 0.81358, std: 0.03179, params: {'max_depth': 5, 'min_child_weight': 1},\n",
       "  mean: 0.80018, std: 0.03085, params: {'max_depth': 5, 'min_child_weight': 3},\n",
       "  mean: 0.80520, std: 0.03389, params: {'max_depth': 5, 'min_child_weight': 5},\n",
       "  mean: 0.81356, std: 0.03723, params: {'max_depth': 7, 'min_child_weight': 1},\n",
       "  mean: 0.80852, std: 0.03758, params: {'max_depth': 7, 'min_child_weight': 3},\n",
       "  mean: 0.80349, std: 0.03655, params: {'max_depth': 7, 'min_child_weight': 5},\n",
       "  mean: 0.80852, std: 0.03532, params: {'max_depth': 9, 'min_child_weight': 1},\n",
       "  mean: 0.80518, std: 0.03761, params: {'max_depth': 9, 'min_child_weight': 3},\n",
       "  mean: 0.80519, std: 0.03436, params: {'max_depth': 9, 'min_child_weight': 5}],\n",
       " {'max_depth': 5, 'min_child_weight': 1},\n",
       " 0.8135787874471822)"
      ]
     },
     "execution_count": 266,
     "metadata": {},
     "output_type": "execute_result"
    }
   ],
   "source": [
    "param_test1 = {\n",
    " 'max_depth':np.arange(3,10,2),\n",
    " 'min_child_weight':np.arange(1,6,2)\n",
    "}\n",
    "gsearch1 = GridSearchCV(estimator = XGBClassifier( learning_rate =0.1, n_estimators=140, max_depth=5,\n",
    " min_child_weight=1, gamma=0, subsample=0.8, colsample_bytree=0.8,\n",
    " objective= 'binary:logistic', nthread=4, scale_pos_weight=1, seed=27), \n",
    " param_grid = param_test1, scoring='accuracy',n_jobs=4,iid=False, cv=5)\n",
    "gsearch1.fit(X_Train,Y_Train)\n",
    "\n",
    "gsearch1.grid_scores_, gsearch1.best_params_, gsearch1.best_score_"
   ]
  },
  {
   "cell_type": "code",
   "execution_count": 269,
   "metadata": {},
   "outputs": [
    {
     "data": {
      "text/plain": [
       "([mean: 0.81022, std: 0.03233, params: {'max_depth': 4, 'min_child_weight': 0},\n",
       "  mean: 0.81525, std: 0.03583, params: {'max_depth': 4, 'min_child_weight': 0.5},\n",
       "  mean: 0.80683, std: 0.04124, params: {'max_depth': 4, 'min_child_weight': 1},\n",
       "  mean: 0.81690, std: 0.03693, params: {'max_depth': 5, 'min_child_weight': 0},\n",
       "  mean: 0.81520, std: 0.03987, params: {'max_depth': 5, 'min_child_weight': 0.5},\n",
       "  mean: 0.81358, std: 0.03179, params: {'max_depth': 5, 'min_child_weight': 1},\n",
       "  mean: 0.80681, std: 0.04055, params: {'max_depth': 6, 'min_child_weight': 0},\n",
       "  mean: 0.80520, std: 0.02950, params: {'max_depth': 6, 'min_child_weight': 0.5},\n",
       "  mean: 0.81186, std: 0.03898, params: {'max_depth': 6, 'min_child_weight': 1}],\n",
       " {'max_depth': 5, 'min_child_weight': 0},\n",
       " 0.8168978777951859)"
      ]
     },
     "execution_count": 269,
     "metadata": {},
     "output_type": "execute_result"
    }
   ],
   "source": [
    "param_test2 = {\n",
    " 'max_depth':[4,5,6],\n",
    " 'min_child_weight':[0,0.5,1]\n",
    "}\n",
    "gsearch2 = GridSearchCV(estimator = XGBClassifier( learning_rate=0.1, n_estimators=140, max_depth=5,\n",
    " min_child_weight=2, gamma=0, subsample=0.8, colsample_bytree=0.8,\n",
    " objective= 'binary:logistic', nthread=4, scale_pos_weight=1,seed=27), \n",
    " param_grid = param_test2, scoring='accuracy',n_jobs=4,iid=False, cv=5)\n",
    "gsearch2.fit(X_Train,Y_Train)\n",
    "gsearch2.grid_scores_, gsearch2.best_params_, gsearch2.best_score_"
   ]
  },
  {
   "cell_type": "code",
   "execution_count": null,
   "metadata": {},
   "outputs": [],
   "source": []
  },
  {
   "cell_type": "markdown",
   "metadata": {},
   "source": [
    "### Step 3: Tune gamma"
   ]
  },
  {
   "cell_type": "code",
   "execution_count": 270,
   "metadata": {},
   "outputs": [
    {
     "data": {
      "text/plain": [
       "([mean: 0.81690, std: 0.03693, params: {'gamma': 0.0},\n",
       "  mean: 0.80852, std: 0.03683, params: {'gamma': 0.1},\n",
       "  mean: 0.81191, std: 0.03045, params: {'gamma': 0.2},\n",
       "  mean: 0.81356, std: 0.03528, params: {'gamma': 0.3},\n",
       "  mean: 0.81693, std: 0.03567, params: {'gamma': 0.4}],\n",
       " {'gamma': 0.4},\n",
       " 0.8169258889996677)"
      ]
     },
     "execution_count": 270,
     "metadata": {},
     "output_type": "execute_result"
    }
   ],
   "source": [
    "param_test3 = {\n",
    " 'gamma':[i/10.0 for i in range(0,5)]\n",
    "}\n",
    "gsearch3 = GridSearchCV(estimator = XGBClassifier( learning_rate =0.1, n_estimators=140, max_depth=5,\n",
    " min_child_weight=0, gamma=0, subsample=0.8, colsample_bytree=0.8,\n",
    " objective= 'binary:logistic', nthread=4, scale_pos_weight=1,seed=27), \n",
    " param_grid = param_test3, scoring='accuracy',n_jobs=4,iid=False, cv=5)\n",
    "gsearch3.fit(X_Train,Y_Train)\n",
    "gsearch3.grid_scores_, gsearch3.best_params_, gsearch3.best_score_"
   ]
  },
  {
   "cell_type": "markdown",
   "metadata": {},
   "source": [
    "### Step 4: Tune subsample and colsample_bytree"
   ]
  },
  {
   "cell_type": "code",
   "execution_count": 272,
   "metadata": {},
   "outputs": [
    {
     "data": {
      "text/plain": [
       "([mean: 0.81691, std: 0.03521, params: {'colsample_bytree': 0.6, 'subsample': 0.6},\n",
       "  mean: 0.81186, std: 0.03884, params: {'colsample_bytree': 0.6, 'subsample': 0.7},\n",
       "  mean: 0.81526, std: 0.03073, params: {'colsample_bytree': 0.6, 'subsample': 0.8},\n",
       "  mean: 0.81351, std: 0.04211, params: {'colsample_bytree': 0.6, 'subsample': 0.9},\n",
       "  mean: 0.81861, std: 0.03097, params: {'colsample_bytree': 0.7, 'subsample': 0.6},\n",
       "  mean: 0.81852, std: 0.04388, params: {'colsample_bytree': 0.7, 'subsample': 0.7},\n",
       "  mean: 0.81191, std: 0.03176, params: {'colsample_bytree': 0.7, 'subsample': 0.8},\n",
       "  mean: 0.81520, std: 0.03872, params: {'colsample_bytree': 0.7, 'subsample': 0.9},\n",
       "  mean: 0.81856, std: 0.04096, params: {'colsample_bytree': 0.8, 'subsample': 0.6},\n",
       "  mean: 0.81349, std: 0.04412, params: {'colsample_bytree': 0.8, 'subsample': 0.7},\n",
       "  mean: 0.81693, std: 0.03567, params: {'colsample_bytree': 0.8, 'subsample': 0.8},\n",
       "  mean: 0.81184, std: 0.04148, params: {'colsample_bytree': 0.8, 'subsample': 0.9},\n",
       "  mean: 0.81858, std: 0.03658, params: {'colsample_bytree': 0.9, 'subsample': 0.6},\n",
       "  mean: 0.81188, std: 0.03843, params: {'colsample_bytree': 0.9, 'subsample': 0.7},\n",
       "  mean: 0.81019, std: 0.03958, params: {'colsample_bytree': 0.9, 'subsample': 0.8},\n",
       "  mean: 0.80683, std: 0.03609, params: {'colsample_bytree': 0.9, 'subsample': 0.9}],\n",
       " {'colsample_bytree': 0.7, 'subsample': 0.6},\n",
       " 0.8186070360347528)"
      ]
     },
     "execution_count": 272,
     "metadata": {},
     "output_type": "execute_result"
    }
   ],
   "source": [
    "param_test4 = {\n",
    " 'subsample':[i/10.0 for i in range(6,10)],\n",
    " 'colsample_bytree':[i/10.0 for i in range(6,10)]\n",
    "}\n",
    "gsearch4 = GridSearchCV(estimator = XGBClassifier( learning_rate =0.1, n_estimators=140, max_depth=5,\n",
    " min_child_weight=0, gamma=0.4, subsample=0.8, colsample_bytree=0.8,\n",
    " objective= 'binary:logistic', nthread=4, scale_pos_weight=1,seed=27), \n",
    " param_grid = param_test4, scoring='accuracy',n_jobs=4,iid=False, cv=5)\n",
    "gsearch4.fit(X_Train,Y_Train)\n",
    "gsearch4.grid_scores_, gsearch4.best_params_, gsearch4.best_score_"
   ]
  },
  {
   "cell_type": "code",
   "execution_count": 274,
   "metadata": {},
   "outputs": [
    {
     "data": {
      "text/plain": [
       "([mean: 0.81691, std: 0.03521, params: {'colsample_bytree': 0.6, 'subsample': 0.6},\n",
       "  mean: 0.81186, std: 0.03884, params: {'colsample_bytree': 0.6, 'subsample': 0.7},\n",
       "  mean: 0.81526, std: 0.03073, params: {'colsample_bytree': 0.6, 'subsample': 0.8},\n",
       "  mean: 0.81351, std: 0.04211, params: {'colsample_bytree': 0.6, 'subsample': 0.9},\n",
       "  mean: 0.81861, std: 0.03097, params: {'colsample_bytree': 0.7, 'subsample': 0.6},\n",
       "  mean: 0.81852, std: 0.04388, params: {'colsample_bytree': 0.7, 'subsample': 0.7},\n",
       "  mean: 0.81191, std: 0.03176, params: {'colsample_bytree': 0.7, 'subsample': 0.8},\n",
       "  mean: 0.81520, std: 0.03872, params: {'colsample_bytree': 0.7, 'subsample': 0.9},\n",
       "  mean: 0.81856, std: 0.04096, params: {'colsample_bytree': 0.8, 'subsample': 0.6},\n",
       "  mean: 0.81349, std: 0.04412, params: {'colsample_bytree': 0.8, 'subsample': 0.7},\n",
       "  mean: 0.81693, std: 0.03567, params: {'colsample_bytree': 0.8, 'subsample': 0.8},\n",
       "  mean: 0.81184, std: 0.04148, params: {'colsample_bytree': 0.8, 'subsample': 0.9},\n",
       "  mean: 0.81858, std: 0.03658, params: {'colsample_bytree': 0.9, 'subsample': 0.6},\n",
       "  mean: 0.81188, std: 0.03843, params: {'colsample_bytree': 0.9, 'subsample': 0.7},\n",
       "  mean: 0.81019, std: 0.03958, params: {'colsample_bytree': 0.9, 'subsample': 0.8},\n",
       "  mean: 0.80683, std: 0.03609, params: {'colsample_bytree': 0.9, 'subsample': 0.9}],\n",
       " {'colsample_bytree': 0.7, 'subsample': 0.6},\n",
       " 0.8186070360347528)"
      ]
     },
     "execution_count": 274,
     "metadata": {},
     "output_type": "execute_result"
    }
   ],
   "source": [
    "param_test5 = {\n",
    " 'subsample':[i/100.0 for i in range(50,70,5)],\n",
    " 'colsample_bytree':[i/100.0 for i in range(60,80,5)]\n",
    "}\n",
    "gsearch5 = GridSearchCV(estimator = XGBClassifier( learning_rate =0.1, n_estimators=140, max_depth=5,\n",
    " min_child_weight=0, gamma=0.4, subsample=0.8, colsample_bytree=0.8,\n",
    " objective= 'binary:logistic', nthread=4, scale_pos_weight=1,seed=27), \n",
    " param_grid = param_test4, scoring='accuracy',n_jobs=4,iid=False, cv=5)\n",
    "gsearch5.fit(X_Train,Y_Train)\n",
    "gsearch5.grid_scores_, gsearch4.best_params_, gsearch4.best_score_"
   ]
  },
  {
   "cell_type": "markdown",
   "metadata": {},
   "source": [
    "### Step 5: Tuning Regularization Parameters"
   ]
  },
  {
   "cell_type": "code",
   "execution_count": 275,
   "metadata": {},
   "outputs": [
    {
     "data": {
      "text/plain": [
       "([mean: 0.81188, std: 0.03373, params: {'reg_alpha': 1e-05},\n",
       "  mean: 0.81526, std: 0.03249, params: {'reg_alpha': 0.01},\n",
       "  mean: 0.81358, std: 0.03352, params: {'reg_alpha': 0.1},\n",
       "  mean: 0.80349, std: 0.03873, params: {'reg_alpha': 1},\n",
       "  mean: 0.62416, std: 0.00204, params: {'reg_alpha': 100}],\n",
       " {'reg_alpha': 0.01},\n",
       " 0.8152594597160899)"
      ]
     },
     "execution_count": 275,
     "metadata": {},
     "output_type": "execute_result"
    }
   ],
   "source": [
    "param_test6 = {\n",
    " 'reg_alpha':[1e-5, 1e-2, 0.1, 1, 100]\n",
    "}\n",
    "gsearch6 = GridSearchCV(estimator = XGBClassifier(learning_rate =0.1, n_estimators=140, max_depth=5,\n",
    " min_child_weight=0, gamma=0.4, subsample=0.8, colsample_bytree=0.8,\n",
    " objective= 'binary:logistic', nthread=4, scale_pos_weight=1,seed=27), \n",
    " param_grid = param_test6, scoring='accuracy',n_jobs=4,iid=False, cv=5)\n",
    "gsearch6.fit(X_Train,Y_Train)\n",
    "gsearch6.grid_scores_, gsearch6.best_params_, gsearch6.best_score_"
   ]
  },
  {
   "cell_type": "code",
   "execution_count": 277,
   "metadata": {},
   "outputs": [
    {
     "data": {
      "text/plain": [
       "([mean: 0.81693, std: 0.03567, params: {'reg_alpha': 0},\n",
       "  mean: 0.80690, std: 0.02765, params: {'reg_alpha': 0.001},\n",
       "  mean: 0.80687, std: 0.03253, params: {'reg_alpha': 0.005},\n",
       "  mean: 0.81526, std: 0.03249, params: {'reg_alpha': 0.01},\n",
       "  mean: 0.81187, std: 0.03705, params: {'reg_alpha': 0.05}],\n",
       " {'reg_alpha': 0},\n",
       " 0.8169258889996677)"
      ]
     },
     "execution_count": 277,
     "metadata": {},
     "output_type": "execute_result"
    }
   ],
   "source": [
    "param_test7 = {\n",
    " 'reg_alpha':[0, 0.001, 0.005, 0.01, 0.05]\n",
    "}\n",
    "gsearch7 = GridSearchCV(estimator = XGBClassifier( learning_rate =0.1, n_estimators=140, max_depth=5,\n",
    " min_child_weight=0, gamma=0.4, subsample=0.8, colsample_bytree=0.8,\n",
    " objective= 'binary:logistic', nthread=4, scale_pos_weight=1,seed=27), \n",
    " param_grid = param_test7, scoring='accuracy',n_jobs=4,iid=False, cv=5)\n",
    "gsearch7.fit(X_Train,Y_Train)\n",
    "gsearch7.grid_scores_, gsearch7.best_params_, gsearch7.best_score_"
   ]
  },
  {
   "cell_type": "markdown",
   "metadata": {},
   "source": [
    "### Step 6: Reducing Learning Rate"
   ]
  },
  {
   "cell_type": "code",
   "execution_count": null,
   "metadata": {},
   "outputs": [],
   "source": []
  },
  {
   "cell_type": "markdown",
   "metadata": {},
   "source": [
    "### For Test"
   ]
  },
  {
   "cell_type": "code",
   "execution_count": 220,
   "metadata": {},
   "outputs": [
    {
     "data": {
      "text/plain": [
       "Index(['Age', 'SibSp', 'Parch', 'Fare', 'Sex_male', 'Embarked_Q', 'Embarked_S',\n",
       "       'Title_Army.', 'Title_Dr.', 'Title_Master.', 'Title_Miss.', 'Title_Mr.',\n",
       "       'Title_Mrs.', 'Title_Noble.', 'Title_Rev.', 'hasCabin', 'CabinZone_A',\n",
       "       'CabinZone_B', 'CabinZone_C', 'CabinZone_D', 'CabinZone_E',\n",
       "       'CabinZone_F', 'CabinZone_G', 'CabinZone_None', 'CabinZone_T',\n",
       "       'OrderPclass'],\n",
       "      dtype='object')"
      ]
     },
     "execution_count": 220,
     "metadata": {},
     "output_type": "execute_result"
    }
   ],
   "source": [
    "X_Test.columns"
   ]
  },
  {
   "cell_type": "code",
   "execution_count": 258,
   "metadata": {},
   "outputs": [],
   "source": [
    "df['Survived']=predictions"
   ]
  },
  {
   "cell_type": "code",
   "execution_count": 259,
   "metadata": {},
   "outputs": [],
   "source": [
    "df =df[['PassengerId','Survived']]"
   ]
  },
  {
   "cell_type": "code",
   "execution_count": 260,
   "metadata": {},
   "outputs": [],
   "source": [
    "df.to_csv('prediction_result.csv',index = False)"
   ]
  },
  {
   "cell_type": "code",
   "execution_count": null,
   "metadata": {},
   "outputs": [],
   "source": []
  }
 ],
 "metadata": {
  "kernelspec": {
   "display_name": "Python 3",
   "language": "python",
   "name": "python3"
  },
  "language_info": {
   "codemirror_mode": {
    "name": "ipython",
    "version": 3
   },
   "file_extension": ".py",
   "mimetype": "text/x-python",
   "name": "python",
   "nbconvert_exporter": "python",
   "pygments_lexer": "ipython3",
   "version": "3.7.0"
  }
 },
 "nbformat": 4,
 "nbformat_minor": 2
}
